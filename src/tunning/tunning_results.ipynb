{
 "cells": [
  {
   "cell_type": "code",
   "execution_count": 1,
   "metadata": {},
   "outputs": [
    {
     "output_type": "stream",
     "name": "stderr",
     "text": [
      "C:\\Users\\marsa\\Miniconda3\\envs\\tesis-env\\lib\\site-packages\\pandas\\core\\indexing.py:1843: SettingWithCopyWarning: \nA value is trying to be set on a copy of a slice from a DataFrame.\nTry using .loc[row_indexer,col_indexer] = value instead\n\nSee the caveats in the documentation: https://pandas.pydata.org/pandas-docs/stable/user_guide/indexing.html#returning-a-view-versus-a-copy\n  self.obj[item_labels[indexer[info_axis]]] = value\n"
     ]
    },
    {
     "output_type": "display_data",
     "data": {
      "text/plain": "  arch  Usuario Personal/Impersonal  Nr. nodos  Nr. capas  \\\n0  mlp       34                 per        256         16   \n1  mlp       32                 per          4          4   \n2  mlp       34                 imp         32          2   \n3  mlp       32                 imp         32          4   \n\n   Usar Batch Normalization  Dropout  Nr. épocas  Tam. bache    MSE  \n0                         2    0.800          64           8  0.264  \n1                         1    0.386          64           8  0.375  \n2                         1    0.623          64          64  0.213  \n3                         2    0.346          64          32  0.313  ",
      "text/html": "<div>\n<style scoped>\n    .dataframe tbody tr th:only-of-type {\n        vertical-align: middle;\n    }\n\n    .dataframe tbody tr th {\n        vertical-align: top;\n    }\n\n    .dataframe thead th {\n        text-align: right;\n    }\n</style>\n<table border=\"1\" class=\"dataframe\">\n  <thead>\n    <tr style=\"text-align: right;\">\n      <th></th>\n      <th>arch</th>\n      <th>Usuario</th>\n      <th>Personal/Impersonal</th>\n      <th>Nr. nodos</th>\n      <th>Nr. capas</th>\n      <th>Usar Batch Normalization</th>\n      <th>Dropout</th>\n      <th>Nr. épocas</th>\n      <th>Tam. bache</th>\n      <th>MSE</th>\n    </tr>\n  </thead>\n  <tbody>\n    <tr>\n      <th>0</th>\n      <td>mlp</td>\n      <td>34</td>\n      <td>per</td>\n      <td>256</td>\n      <td>16</td>\n      <td>2</td>\n      <td>0.800</td>\n      <td>64</td>\n      <td>8</td>\n      <td>0.264</td>\n    </tr>\n    <tr>\n      <th>1</th>\n      <td>mlp</td>\n      <td>32</td>\n      <td>per</td>\n      <td>4</td>\n      <td>4</td>\n      <td>1</td>\n      <td>0.386</td>\n      <td>64</td>\n      <td>8</td>\n      <td>0.375</td>\n    </tr>\n    <tr>\n      <th>2</th>\n      <td>mlp</td>\n      <td>34</td>\n      <td>imp</td>\n      <td>32</td>\n      <td>2</td>\n      <td>1</td>\n      <td>0.623</td>\n      <td>64</td>\n      <td>64</td>\n      <td>0.213</td>\n    </tr>\n    <tr>\n      <th>3</th>\n      <td>mlp</td>\n      <td>32</td>\n      <td>imp</td>\n      <td>32</td>\n      <td>4</td>\n      <td>2</td>\n      <td>0.346</td>\n      <td>64</td>\n      <td>32</td>\n      <td>0.313</td>\n    </tr>\n  </tbody>\n</table>\n</div>"
     },
     "metadata": {}
    },
    {
     "output_type": "stream",
     "name": "stderr",
     "text": [
      "C:\\Users\\marsa\\Miniconda3\\envs\\tesis-env\\lib\\site-packages\\pandas\\core\\indexing.py:1843: SettingWithCopyWarning: \nA value is trying to be set on a copy of a slice from a DataFrame.\nTry using .loc[row_indexer,col_indexer] = value instead\n\nSee the caveats in the documentation: https://pandas.pydata.org/pandas-docs/stable/user_guide/indexing.html#returning-a-view-versus-a-copy\n  self.obj[item_labels[indexer[info_axis]]] = value\n"
     ]
    },
    {
     "output_type": "display_data",
     "data": {
      "text/plain": "  arch  Usuario Personal/Impersonal  Nr. capas  Nr. unidades LSTM  \\\n0  rnn       34                 per          4                  4   \n1  rnn       32                 per          2                512   \n2  rnn       34                 imp          2                128   \n3  rnn       32                 imp          2                  4   \n\n   Dropout (lstm)  Nr nodos densos  Dropout (denso)  Nr. épocas  Tam. bache  \\\n0           0.446               64            0.000          32          16   \n1           0.000               64            0.800          16           8   \n2           0.748                1            0.000           8           8   \n3           0.000               32            0.214           8           8   \n\n     MSE  \n0  0.246  \n1  0.344  \n2  0.215  \n3  0.302  ",
      "text/html": "<div>\n<style scoped>\n    .dataframe tbody tr th:only-of-type {\n        vertical-align: middle;\n    }\n\n    .dataframe tbody tr th {\n        vertical-align: top;\n    }\n\n    .dataframe thead th {\n        text-align: right;\n    }\n</style>\n<table border=\"1\" class=\"dataframe\">\n  <thead>\n    <tr style=\"text-align: right;\">\n      <th></th>\n      <th>arch</th>\n      <th>Usuario</th>\n      <th>Personal/Impersonal</th>\n      <th>Nr. capas</th>\n      <th>Nr. unidades LSTM</th>\n      <th>Dropout (lstm)</th>\n      <th>Nr nodos densos</th>\n      <th>Dropout (denso)</th>\n      <th>Nr. épocas</th>\n      <th>Tam. bache</th>\n      <th>MSE</th>\n    </tr>\n  </thead>\n  <tbody>\n    <tr>\n      <th>0</th>\n      <td>rnn</td>\n      <td>34</td>\n      <td>per</td>\n      <td>4</td>\n      <td>4</td>\n      <td>0.446</td>\n      <td>64</td>\n      <td>0.000</td>\n      <td>32</td>\n      <td>16</td>\n      <td>0.246</td>\n    </tr>\n    <tr>\n      <th>1</th>\n      <td>rnn</td>\n      <td>32</td>\n      <td>per</td>\n      <td>2</td>\n      <td>512</td>\n      <td>0.000</td>\n      <td>64</td>\n      <td>0.800</td>\n      <td>16</td>\n      <td>8</td>\n      <td>0.344</td>\n    </tr>\n    <tr>\n      <th>2</th>\n      <td>rnn</td>\n      <td>34</td>\n      <td>imp</td>\n      <td>2</td>\n      <td>128</td>\n      <td>0.748</td>\n      <td>1</td>\n      <td>0.000</td>\n      <td>8</td>\n      <td>8</td>\n      <td>0.215</td>\n    </tr>\n    <tr>\n      <th>3</th>\n      <td>rnn</td>\n      <td>32</td>\n      <td>imp</td>\n      <td>2</td>\n      <td>4</td>\n      <td>0.000</td>\n      <td>32</td>\n      <td>0.214</td>\n      <td>8</td>\n      <td>8</td>\n      <td>0.302</td>\n    </tr>\n  </tbody>\n</table>\n</div>"
     },
     "metadata": {}
    },
    {
     "output_type": "stream",
     "name": "stderr",
     "text": [
      "C:\\Users\\marsa\\Miniconda3\\envs\\tesis-env\\lib\\site-packages\\pandas\\core\\indexing.py:1843: SettingWithCopyWarning: \nA value is trying to be set on a copy of a slice from a DataFrame.\nTry using .loc[row_indexer,col_indexer] = value instead\n\nSee the caveats in the documentation: https://pandas.pydata.org/pandas-docs/stable/user_guide/indexing.html#returning-a-view-versus-a-copy\n  self.obj[item_labels[indexer[info_axis]]] = value\n"
     ]
    },
    {
     "output_type": "display_data",
     "data": {
      "text/plain": "  arch  Usuario Personal/Impersonal  Nr. filtros  Tam. kernel  Dropout  \\\n0  tcn       34                 per           32           16    0.800   \n1  tcn       32                 per            4            4    0.246   \n2  tcn       34                 imp            4            4    0.462   \n3  tcn       32                 imp            8           16    0.330   \n\n   Omitir conexiones  Usar Batch Normalization  Nr. épocas  Tam. bache    MSE  \n0                  2                         1         256           8  0.263  \n1                  1                         1         128          16  0.396  \n2                  2                         1          32          16  0.217  \n3                  1                         2          64          16  0.308  ",
      "text/html": "<div>\n<style scoped>\n    .dataframe tbody tr th:only-of-type {\n        vertical-align: middle;\n    }\n\n    .dataframe tbody tr th {\n        vertical-align: top;\n    }\n\n    .dataframe thead th {\n        text-align: right;\n    }\n</style>\n<table border=\"1\" class=\"dataframe\">\n  <thead>\n    <tr style=\"text-align: right;\">\n      <th></th>\n      <th>arch</th>\n      <th>Usuario</th>\n      <th>Personal/Impersonal</th>\n      <th>Nr. filtros</th>\n      <th>Tam. kernel</th>\n      <th>Dropout</th>\n      <th>Omitir conexiones</th>\n      <th>Usar Batch Normalization</th>\n      <th>Nr. épocas</th>\n      <th>Tam. bache</th>\n      <th>MSE</th>\n    </tr>\n  </thead>\n  <tbody>\n    <tr>\n      <th>0</th>\n      <td>tcn</td>\n      <td>34</td>\n      <td>per</td>\n      <td>32</td>\n      <td>16</td>\n      <td>0.800</td>\n      <td>2</td>\n      <td>1</td>\n      <td>256</td>\n      <td>8</td>\n      <td>0.263</td>\n    </tr>\n    <tr>\n      <th>1</th>\n      <td>tcn</td>\n      <td>32</td>\n      <td>per</td>\n      <td>4</td>\n      <td>4</td>\n      <td>0.246</td>\n      <td>1</td>\n      <td>1</td>\n      <td>128</td>\n      <td>16</td>\n      <td>0.396</td>\n    </tr>\n    <tr>\n      <th>2</th>\n      <td>tcn</td>\n      <td>34</td>\n      <td>imp</td>\n      <td>4</td>\n      <td>4</td>\n      <td>0.462</td>\n      <td>2</td>\n      <td>1</td>\n      <td>32</td>\n      <td>16</td>\n      <td>0.217</td>\n    </tr>\n    <tr>\n      <th>3</th>\n      <td>tcn</td>\n      <td>32</td>\n      <td>imp</td>\n      <td>8</td>\n      <td>16</td>\n      <td>0.330</td>\n      <td>1</td>\n      <td>2</td>\n      <td>64</td>\n      <td>16</td>\n      <td>0.308</td>\n    </tr>\n  </tbody>\n</table>\n</div>"
     },
     "metadata": {}
    },
    {
     "output_type": "stream",
     "name": "stderr",
     "text": [
      "C:\\Users\\marsa\\Miniconda3\\envs\\tesis-env\\lib\\site-packages\\pandas\\core\\indexing.py:1843: SettingWithCopyWarning: \nA value is trying to be set on a copy of a slice from a DataFrame.\nTry using .loc[row_indexer,col_indexer] = value instead\n\nSee the caveats in the documentation: https://pandas.pydata.org/pandas-docs/stable/user_guide/indexing.html#returning-a-view-versus-a-copy\n  self.obj[item_labels[indexer[info_axis]]] = value\n"
     ]
    },
    {
     "output_type": "display_data",
     "data": {
      "text/plain": "  arch  Usuario Personal/Impersonal  Nr. filtros  Tam. kernel  Dropout (conv)  \\\n0  cnn       34                 per          256            4             0.0   \n1  cnn       32                 per          128           16             0.8   \n2  cnn       34                 imp          128           16             0.8   \n3  cnn       32                 imp           64            4             0.8   \n\n   Nr. nodos densos  Dropout (denso)  Nr. épocas  Tam. bache    MSE  \n0                16            0.800          64           8  0.270  \n1                32            0.800          64           8  0.384  \n2                64            0.763          64         128  0.212  \n3                 1            0.800          32         256  0.308  ",
      "text/html": "<div>\n<style scoped>\n    .dataframe tbody tr th:only-of-type {\n        vertical-align: middle;\n    }\n\n    .dataframe tbody tr th {\n        vertical-align: top;\n    }\n\n    .dataframe thead th {\n        text-align: right;\n    }\n</style>\n<table border=\"1\" class=\"dataframe\">\n  <thead>\n    <tr style=\"text-align: right;\">\n      <th></th>\n      <th>arch</th>\n      <th>Usuario</th>\n      <th>Personal/Impersonal</th>\n      <th>Nr. filtros</th>\n      <th>Tam. kernel</th>\n      <th>Dropout (conv)</th>\n      <th>Nr. nodos densos</th>\n      <th>Dropout (denso)</th>\n      <th>Nr. épocas</th>\n      <th>Tam. bache</th>\n      <th>MSE</th>\n    </tr>\n  </thead>\n  <tbody>\n    <tr>\n      <th>0</th>\n      <td>cnn</td>\n      <td>34</td>\n      <td>per</td>\n      <td>256</td>\n      <td>4</td>\n      <td>0.0</td>\n      <td>16</td>\n      <td>0.800</td>\n      <td>64</td>\n      <td>8</td>\n      <td>0.270</td>\n    </tr>\n    <tr>\n      <th>1</th>\n      <td>cnn</td>\n      <td>32</td>\n      <td>per</td>\n      <td>128</td>\n      <td>16</td>\n      <td>0.8</td>\n      <td>32</td>\n      <td>0.800</td>\n      <td>64</td>\n      <td>8</td>\n      <td>0.384</td>\n    </tr>\n    <tr>\n      <th>2</th>\n      <td>cnn</td>\n      <td>34</td>\n      <td>imp</td>\n      <td>128</td>\n      <td>16</td>\n      <td>0.8</td>\n      <td>64</td>\n      <td>0.763</td>\n      <td>64</td>\n      <td>128</td>\n      <td>0.212</td>\n    </tr>\n    <tr>\n      <th>3</th>\n      <td>cnn</td>\n      <td>32</td>\n      <td>imp</td>\n      <td>64</td>\n      <td>4</td>\n      <td>0.8</td>\n      <td>1</td>\n      <td>0.800</td>\n      <td>32</td>\n      <td>256</td>\n      <td>0.308</td>\n    </tr>\n  </tbody>\n</table>\n</div>"
     },
     "metadata": {}
    }
   ],
   "source": [
    "import sys\n",
    "sys.path.append('c:\\\\Users\\\\marsa\\\\Documents\\\\projects\\\\tesis-project\\\\src')\n",
    "from tunning.utils import get_tunning_results\n",
    "from IPython.display import display\n",
    "\n",
    "def fitness():\n",
    "    pass\n",
    "\n",
    "for arch in ['mlp', 'rnn', 'tcn','cnn']:\n",
    "    display(get_tunning_results(arch))\n"
   ]
  }
 ],
 "metadata": {
  "kernelspec": {
   "display_name": "Python 3",
   "language": "python",
   "name": "python3"
  },
  "language_info": {
   "codemirror_mode": {
    "name": "ipython",
    "version": 3
   },
   "file_extension": ".py",
   "mimetype": "text/x-python",
   "name": "python",
   "nbconvert_exporter": "python",
   "pygments_lexer": "ipython3",
   "version": "3.8.8-final"
  }
 },
 "nbformat": 4,
 "nbformat_minor": 2
}